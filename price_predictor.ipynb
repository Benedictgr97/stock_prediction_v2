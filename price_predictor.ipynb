{
 "cells": [
  {
   "cell_type": "markdown",
   "metadata": {},
   "source": [
    "## Import required packages "
   ]
  },
  {
   "cell_type": "code",
   "execution_count": 18,
   "metadata": {},
   "outputs": [],
   "source": [
    "import pandas as pd \n",
    "import numpy as np"
   ]
  },
  {
   "cell_type": "code",
   "execution_count": null,
   "metadata": {},
   "outputs": [
    {
     "ename": "KeyError",
     "evalue": "'results'",
     "output_type": "error",
     "traceback": [
      "\u001b[1;31m---------------------------------------------------------------------------\u001b[0m",
      "\u001b[1;31mKeyError\u001b[0m                                  Traceback (most recent call last)",
      "Cell \u001b[1;32mIn[21], line 12\u001b[0m\n\u001b[0;32m      9\u001b[0m data \u001b[38;5;241m=\u001b[39m response\u001b[38;5;241m.\u001b[39mjson()\n\u001b[0;32m     11\u001b[0m \u001b[38;5;66;03m# Convert the JSON data to a pandas DataFrame\u001b[39;00m\n\u001b[1;32m---> 12\u001b[0m df \u001b[38;5;241m=\u001b[39m pd\u001b[38;5;241m.\u001b[39mDataFrame(\u001b[43mdata\u001b[49m\u001b[43m[\u001b[49m\u001b[38;5;124;43m'\u001b[39;49m\u001b[38;5;124;43mresults\u001b[39;49m\u001b[38;5;124;43m'\u001b[39;49m\u001b[43m]\u001b[49m)\n\u001b[0;32m     14\u001b[0m \u001b[38;5;66;03m# Convert the timestamp to a readable date format\u001b[39;00m\n\u001b[0;32m     15\u001b[0m df[\u001b[38;5;124m'\u001b[39m\u001b[38;5;124mt\u001b[39m\u001b[38;5;124m'\u001b[39m] \u001b[38;5;241m=\u001b[39m pd\u001b[38;5;241m.\u001b[39mto_datetime(df[\u001b[38;5;124m'\u001b[39m\u001b[38;5;124mt\u001b[39m\u001b[38;5;124m'\u001b[39m], unit\u001b[38;5;241m=\u001b[39m\u001b[38;5;124m'\u001b[39m\u001b[38;5;124mms\u001b[39m\u001b[38;5;124m'\u001b[39m)\n",
      "\u001b[1;31mKeyError\u001b[0m: 'results'"
     ]
    }
   ],
   "source": [
    "import requests\n",
    "import pandas as pd\n",
    "\n",
    "# Replace 'YOUR_API_KEY' with your actual Polygon.io API key\n",
    "api_key = 'BIf89HTb0NaGQsWozgDr5x1W8GfFC3MH'\n",
    "symbol = 'AAPL'\n",
    "url = f'https://api.polygon.io/v2/aggs/ticker/{symbol}/range/1/day/2020-01-01/2023-01-01?apiKey={api_key}'\n",
    "\n",
    "response = requests.get(url)\n",
    "data = response.json()\n",
    "\n",
    "# Convert the JSON data to a pandas DataFrame\n",
    "df = pd.DataFrame(data['results'])\n",
    "\n",
    "# Convert the timestamp to a readable date format\n",
    "df['t'] = pd.to_datetime(df['t'], unit='ms')\n",
    "\n",
    "# Display the historical data\n",
    "print(df)"
   ]
  },
  {
   "cell_type": "code",
   "execution_count": 26,
   "metadata": {},
   "outputs": [
    {
     "name": "stdout",
     "output_type": "stream",
     "text": [
      "              v        vw        o       c        h        l  \\\n",
      "0    58280413.0  134.9653  134.080  135.27  136.250  133.770   \n",
      "1    80200655.0  136.3762  135.280  137.87  138.020  134.220   \n",
      "2    81760313.0  141.2116  138.120  141.11  143.315  137.900   \n",
      "3    66435142.0  142.0507  140.305  142.53  143.160  140.300   \n",
      "4    65799349.0  140.7526  140.890  141.86  142.430  138.810   \n",
      "..          ...       ...      ...     ...      ...      ...   \n",
      "234  37149570.0  194.1013  195.180  193.60  195.410  192.970   \n",
      "235  28919310.0  193.1713  193.610  193.05  193.890  192.830   \n",
      "236  48087681.0  192.5679  192.490  193.15  193.500  191.090   \n",
      "237  34049898.0  193.9222  194.140  193.58  194.660  193.170   \n",
      "238  42672148.0  192.5761  193.900  192.53  194.400  191.725   \n",
      "\n",
      "                      t       n  \n",
      "0   2023-01-19 05:00:00  491674  \n",
      "1   2023-01-20 05:00:00  552230  \n",
      "2   2023-01-23 05:00:00  719288  \n",
      "3   2023-01-24 05:00:00  498679  \n",
      "4   2023-01-25 05:00:00  536505  \n",
      "..                  ...     ...  \n",
      "234 2023-12-22 05:00:00  500544  \n",
      "235 2023-12-26 05:00:00  488257  \n",
      "236 2023-12-27 05:00:00  548076  \n",
      "237 2023-12-28 05:00:00  472404  \n",
      "238 2023-12-29 05:00:00  509123  \n",
      "\n",
      "[239 rows x 8 columns]\n"
     ]
    }
   ],
   "source": [
    "import requests\n",
    "import pandas as pd\n",
    "\n",
    "api_key = 'BIf89HTb0NaGQsWozgDr5x1W8GfFC3MH'\n",
    "symbol = 'AAPL'\n",
    "url = f'https://api.polygon.io/v2/aggs/ticker/{symbol}/range/1/day/2023-01-01/2024-01-01?apiKey={api_key}'\n",
    "\n",
    "response = requests.get(url)\n",
    "data = response.json()\n",
    "\n",
    "# Convert the JSON data to a pandas DataFrame\n",
    "df = pd.DataFrame(data['results'])\n",
    "\n",
    "# Convert the timestamp to a readable date format\n",
    "df['t'] = pd.to_datetime(df['t'], unit='ms')\n",
    "\n",
    "# Display the historical data\n",
    "print(df)"
   ]
  },
  {
   "cell_type": "code",
   "execution_count": 25,
   "metadata": {},
   "outputs": [
    {
     "data": {
      "text/plain": [
       "{'status': 'NOT_AUTHORIZED',\n",
       " 'request_id': '6a85e10a46fd447f7ae0e87866f46575',\n",
       " 'message': \"Your plan doesn't include this data timeframe. Please upgrade your plan at https://polygon.io/pricing\"}"
      ]
     },
     "execution_count": 25,
     "metadata": {},
     "output_type": "execute_result"
    }
   ],
   "source": [
    "data"
   ]
  }
 ],
 "metadata": {
  "kernelspec": {
   "display_name": "Python 3",
   "language": "python",
   "name": "python3"
  },
  "language_info": {
   "codemirror_mode": {
    "name": "ipython",
    "version": 3
   },
   "file_extension": ".py",
   "mimetype": "text/x-python",
   "name": "python",
   "nbconvert_exporter": "python",
   "pygments_lexer": "ipython3",
   "version": "3.12.4"
  }
 },
 "nbformat": 4,
 "nbformat_minor": 2
}
